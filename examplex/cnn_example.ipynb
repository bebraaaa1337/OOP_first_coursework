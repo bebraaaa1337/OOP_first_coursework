{
 "cells": [
  {
   "cell_type": "code",
   "execution_count": 1,
   "metadata": {},
   "outputs": [],
   "source": [
    "import sys\n",
    "sys.path.append('C:/Users/golov/OneDrive/Документы/OOP/курсовая/OOP_first_coursework')\n",
    "import numpy as np\n",
    "import matplotlib.pyplot as plt\n",
    "from ML_Library import CNN, Conv2D, MaxPool2D, Flatten, Dense, ReLU, Sigmoid, MSE_Loss"
   ]
  },
  {
   "cell_type": "code",
   "execution_count": 2,
   "metadata": {},
   "outputs": [],
   "source": [
    "def generate_visual_data(n_samples):\n",
    "    X = np.zeros((n_samples, 1, 16, 16))  # (batch_size, channels, height, width)\n",
    "    y = np.zeros((n_samples, 1))\n",
    "    \n",
    "    for i in range(n_samples):\n",
    "        if i < n_samples // 3:\n",
    "            # Класс 0: горизонтальная линия\n",
    "            X[i, 0, 7:9, :] = 1\n",
    "            y[i] = 0\n",
    "        elif i < 2 * n_samples // 3:\n",
    "            # Класс 1: вертикальная линия\n",
    "            X[i, 0, :, 7:9] = 1\n",
    "            y[i] = 1\n",
    "        else:\n",
    "            # Класс 2: диагональная линия\n",
    "            for j in range(16):\n",
    "                X[i, 0, j, j] = 1\n",
    "            y[i] = 2\n",
    "    \n",
    "    return X, y"
   ]
  },
  {
   "cell_type": "code",
   "execution_count": 3,
   "metadata": {},
   "outputs": [],
   "source": [
    "X_train, y_train = generate_visual_data(300)\n",
    "X_test, y_test = generate_visual_data(30)"
   ]
  },
  {
   "cell_type": "code",
   "execution_count": 4,
   "metadata": {},
   "outputs": [
    {
     "data": {
      "image/png": "[encoded data removed]",
      "text/plain": [
       "<Figure size 1500x500 with 6 Axes>"
      ]
     },
     "metadata": {},
     "output_type": "display_data"
    }
   ],
   "source": [
    "plt.figure(figsize=(15, 5))\n",
    "objects=[0,100,200]\n",
    "for i in range(3):\n",
    "    plt.subplot(1, 3, i+1)\n",
    "    # Используем 'viridis' цветовую карту для лучшей видимости\n",
    "    plt.imshow(X_train[objects[i], 0], cmap='viridis', vmin=0, vmax=1)\n",
    "    plt.title(f'Класс {y_train[objects[i]][0]:.0f}')\n",
    "    plt.colorbar()  # Добавляем цветовую шкалу\n",
    "    plt.axis('off')\n",
    "plt.suptitle('Примеры входных данных')\n",
    "plt.tight_layout()\n",
    "plt.show()"
   ]
  },
  {
   "cell_type": "code",
   "execution_count": 5,
   "metadata": {},
   "outputs": [],
   "source": [
    "def to_one_hot(y, num_classes):\n",
    "    \"\"\"Преобразование меток в one-hot encoding\"\"\"\n",
    "    y_one_hot = np.zeros((len(y), num_classes))\n",
    "    for i in range(len(y)):\n",
    "        y_one_hot[i, int(y[i])] = 1\n",
    "    return y_one_hot"
   ]
  },
  {
   "cell_type": "code",
   "execution_count": 6,
   "metadata": {},
   "outputs": [
    {
     "name": "stderr",
     "output_type": "stream",
     "text": [
      "C:\\Users\\golov\\AppData\\Local\\Temp\\ipykernel_19424\\1314104315.py:5: DeprecationWarning: Conversion of an array with ndim > 0 to a scalar is deprecated, and will error in future. Ensure you extract a single element from your array before performing this operation. (Deprecated NumPy 1.25.)\n",
      "  y_one_hot[i, int(y[i])] = 1\n"
     ]
    }
   ],
   "source": [
    "y_train_one_hot = to_one_hot(y_train, 3)\n",
    "y_test_one_hot = to_one_hot(y_test, 3)"
   ]
  },
  {
   "cell_type": "code",
   "execution_count": 12,
   "metadata": {},
   "outputs": [],
   "source": [
    "# Создание модели\n",
    "model = CNN()\n",
    "# Первый сверточный блок\n",
    "model.add(Conv2D(1, 4, kernel_size=3, padding=1))  # Выход: (batch, 4, 16, 16)\n",
    "model.add(ReLU())\n",
    "model.add(MaxPool2D(pool_size=2))  # Выход: (batch, 4, 8, 8)\n",
    "\n",
    "# Второй сверточный блок\n",
    "model.add(Conv2D(4, 8, kernel_size=3, padding=1))  # Выход: (batch, 8, 8, 8)\n",
    "model.add(ReLU())\n",
    "model.add(MaxPool2D(pool_size=2))  # Выход: (batch, 8, 4, 4)\n",
    "\n",
    "# Выравнивание и полносвязные слои\n",
    "model.add(Flatten())  # Выход: (batch, 8*4*4 = 128)\n",
    "model.add(Dense(128, 64))  # Выход: (batch, 64)\n",
    "model.add(ReLU())\n",
    "model.add(Dense(64, 3))  # Выход: (batch, 3) - 3 класса\n",
    "model.add(Sigmoid())\n",
    "\n",
    "# Обучение модели\n",
    "loss_fn = MSE_Loss()"
   ]
  },
  {
   "cell_type": "code",
   "execution_count": 13,
   "metadata": {},
   "outputs": [
    {
     "name": "stdout",
     "output_type": "stream",
     "text": [
      "Эпоха 0, Потери: 7.4811\n",
      "Эпоха 10, Потери: 6.3949\n",
      "Эпоха 20, Потери: 3.4443\n",
      "Эпоха 30, Потери: 0.6299\n",
      "Эпоха 40, Потери: 0.1650\n"
     ]
    }
   ],
   "source": [
    "for epoch in range(50):\n",
    "    epoch_loss = 0\n",
    "    for i in range(0, len(X_train), 10):\n",
    "        X_batch = X_train[i:i+10]\n",
    "        y_batch = y_train_one_hot[i:i+10]  # Используем one-hot encoded метки\n",
    "        \n",
    "        output = model.forward(X_batch)\n",
    "        loss = loss_fn.get_loss(output, y_batch)\n",
    "        epoch_loss += loss\n",
    "        \n",
    "        gradient = loss_fn.get_grad(output, y_batch)\n",
    "        model.backward(gradient, 0.01)\n",
    "    if epoch % 10 == 0:\n",
    "        print(f\"Эпоха {epoch}, Потери: {epoch_loss:.4f}\")"
   ]
  },
  {
   "cell_type": "code",
   "execution_count": 14,
   "metadata": {},
   "outputs": [
    {
     "name": "stdout",
     "output_type": "stream",
     "text": [
      "\n",
      "Тестовые предсказания:\n",
      "Истинное значение: 0, Предсказание: 0\n",
      "Истинное значение: 0, Предсказание: 0\n",
      "Истинное значение: 0, Предсказание: 0\n",
      "Истинное значение: 0, Предсказание: 0\n",
      "Истинное значение: 0, Предсказание: 0\n",
      "Истинное значение: 0, Предсказание: 0\n",
      "Истинное значение: 0, Предсказание: 0\n",
      "Истинное значение: 0, Предсказание: 0\n",
      "Истинное значение: 0, Предсказание: 0\n",
      "Истинное значение: 0, Предсказание: 0\n",
      "Истинное значение: 1, Предсказание: 1\n",
      "Истинное значение: 1, Предсказание: 1\n",
      "Истинное значение: 1, Предсказание: 1\n",
      "Истинное значение: 1, Предсказание: 1\n",
      "Истинное значение: 1, Предсказание: 1\n",
      "Истинное значение: 1, Предсказание: 1\n",
      "Истинное значение: 1, Предсказание: 1\n",
      "Истинное значение: 1, Предсказание: 1\n",
      "Истинное значение: 1, Предсказание: 1\n",
      "Истинное значение: 1, Предсказание: 1\n",
      "Истинное значение: 2, Предсказание: 2\n",
      "Истинное значение: 2, Предсказание: 2\n",
      "Истинное значение: 2, Предсказание: 2\n",
      "Истинное значение: 2, Предсказание: 2\n",
      "Истинное значение: 2, Предсказание: 2\n",
      "Истинное значение: 2, Предсказание: 2\n",
      "Истинное значение: 2, Предсказание: 2\n",
      "Истинное значение: 2, Предсказание: 2\n",
      "Истинное значение: 2, Предсказание: 2\n",
      "Истинное значение: 2, Предсказание: 2\n",
      "Точность: 1.00\n"
     ]
    }
   ],
   "source": [
    "print(\"\\nТестовые предсказания:\")\n",
    "predictions = model.predict(X_test)\n",
    "correct = 0\n",
    "for i in range(len(X_test)):\n",
    "    pred_class = np.argmax(predictions[i])\n",
    "    true_class = int(y_test[i][0])\n",
    "    print(f\"Истинное значение: {true_class}, Предсказание: {pred_class}\")\n",
    "    if pred_class == true_class:\n",
    "        correct += 1\n",
    "print(f\"Точность: {correct / len(X_test):.2f}\")"
   ]
  }
 ],
 "metadata": {
  "kernelspec": {
   "display_name": "Python 3",
   "language": "python",
   "name": "python3"
  },
  "language_info": {
   "codemirror_mode": {
    "name": "ipython",
    "version": 3
   },
   "file_extension": ".py",
   "mimetype": "text/x-python",
   "name": "python",
   "nbconvert_exporter": "python",
   "pygments_lexer": "ipython3",
   "version": "3.9.13"
  }
 },
 "nbformat": 4,
 "nbformat_minor": 2
}
