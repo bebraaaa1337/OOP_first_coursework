{
 "cells": [
  {
   "cell_type": "code",
   "execution_count": 1,
   "metadata": {},
   "outputs": [],
   "source": [
    "import sys\n",
    "sys.path.append('C:/Users/golov/OneDrive/Документы/OOP/курсовая/OOP_first_coursework')\n",
    "import numpy as np\n",
    "from ML_Library import FCNN, Dense, ReLU, Sigmoid, MSE_Loss"
   ]
  },
  {
   "cell_type": "code",
   "execution_count": 2,
   "metadata": {},
   "outputs": [],
   "source": [
    "#генерация данных для задачи XOR\n",
    "X = np.array([[0, 0], [0, 1], [1, 0], [1, 1]])\n",
    "y = np.array([[0], [1], [1], [0]])"
   ]
  },
  {
   "cell_type": "code",
   "execution_count": null,
   "metadata": {},
   "outputs": [],
   "source": [
    "# Создание модели\n",
    "model = FCNN()\n",
    "model.add(Dense(2, 4))  \n",
    "model.add(ReLU())       \n",
    "model.add(Dense(4, 1))  \n",
    "model.add(Sigmoid())    "
   ]
  },
  {
   "cell_type": "code",
   "execution_count": 4,
   "metadata": {},
   "outputs": [
    {
     "name": "stdout",
     "output_type": "stream",
     "text": [
      "Epoch 0, Loss: 0.2500\n",
      "Epoch 10, Loss: 0.2499\n",
      "Epoch 20, Loss: 0.2493\n",
      "Epoch 30, Loss: 0.2467\n",
      "Epoch 40, Loss: 0.2358\n",
      "Epoch 50, Loss: 0.2022\n",
      "Epoch 60, Loss: 0.1402\n",
      "Epoch 70, Loss: 0.0618\n",
      "Epoch 80, Loss: 0.0289\n",
      "Epoch 90, Loss: 0.0169\n",
      "Epoch 100, Loss: 0.0118\n",
      "Epoch 110, Loss: 0.0087\n",
      "Epoch 120, Loss: 0.0069\n",
      "Epoch 130, Loss: 0.0056\n",
      "Epoch 140, Loss: 0.0047\n",
      "Epoch 150, Loss: 0.0041\n",
      "Epoch 160, Loss: 0.0035\n",
      "Epoch 170, Loss: 0.0031\n",
      "Epoch 180, Loss: 0.0028\n",
      "Epoch 190, Loss: 0.0026\n",
      "Epoch 200, Loss: 0.0023\n",
      "Epoch 210, Loss: 0.0021\n",
      "Epoch 220, Loss: 0.0020\n",
      "Epoch 230, Loss: 0.0018\n",
      "Epoch 240, Loss: 0.0017\n",
      "Epoch 250, Loss: 0.0016\n",
      "Epoch 260, Loss: 0.0015\n",
      "Epoch 270, Loss: 0.0014\n",
      "Epoch 280, Loss: 0.0013\n",
      "Epoch 290, Loss: 0.0013\n",
      "Epoch 300, Loss: 0.0012\n",
      "Epoch 310, Loss: 0.0012\n",
      "Epoch 320, Loss: 0.0011\n",
      "Epoch 330, Loss: 0.0011\n",
      "Epoch 340, Loss: 0.0010\n",
      "Epoch 350, Loss: 0.0010\n",
      "Epoch 360, Loss: 0.0009\n",
      "Epoch 370, Loss: 0.0009\n",
      "Epoch 380, Loss: 0.0009\n",
      "Epoch 390, Loss: 0.0008\n",
      "Epoch 400, Loss: 0.0008\n",
      "Epoch 410, Loss: 0.0008\n",
      "Epoch 420, Loss: 0.0008\n",
      "Epoch 430, Loss: 0.0007\n",
      "Epoch 440, Loss: 0.0007\n",
      "Epoch 450, Loss: 0.0007\n",
      "Epoch 460, Loss: 0.0007\n",
      "Epoch 470, Loss: 0.0006\n",
      "Epoch 480, Loss: 0.0006\n",
      "Epoch 490, Loss: 0.0006\n",
      "Epoch 500, Loss: 0.0006\n",
      "Epoch 510, Loss: 0.0006\n",
      "Epoch 520, Loss: 0.0006\n",
      "Epoch 530, Loss: 0.0006\n",
      "Epoch 540, Loss: 0.0005\n",
      "Epoch 550, Loss: 0.0005\n",
      "Epoch 560, Loss: 0.0005\n",
      "Epoch 570, Loss: 0.0005\n",
      "Epoch 580, Loss: 0.0005\n",
      "Epoch 590, Loss: 0.0005\n",
      "Epoch 600, Loss: 0.0005\n",
      "Epoch 610, Loss: 0.0005\n",
      "Epoch 620, Loss: 0.0005\n",
      "Epoch 630, Loss: 0.0004\n",
      "Epoch 640, Loss: 0.0004\n",
      "Epoch 650, Loss: 0.0004\n",
      "Epoch 660, Loss: 0.0004\n",
      "Epoch 670, Loss: 0.0004\n",
      "Epoch 680, Loss: 0.0004\n",
      "Epoch 690, Loss: 0.0004\n",
      "Epoch 700, Loss: 0.0004\n",
      "Epoch 710, Loss: 0.0004\n",
      "Epoch 720, Loss: 0.0004\n",
      "Epoch 730, Loss: 0.0004\n",
      "Epoch 740, Loss: 0.0004\n",
      "Epoch 750, Loss: 0.0004\n",
      "Epoch 760, Loss: 0.0004\n",
      "Epoch 770, Loss: 0.0003\n",
      "Epoch 780, Loss: 0.0003\n",
      "Epoch 790, Loss: 0.0003\n",
      "Epoch 800, Loss: 0.0003\n",
      "Epoch 810, Loss: 0.0003\n",
      "Epoch 820, Loss: 0.0003\n",
      "Epoch 830, Loss: 0.0003\n",
      "Epoch 840, Loss: 0.0003\n",
      "Epoch 850, Loss: 0.0003\n",
      "Epoch 860, Loss: 0.0003\n",
      "Epoch 870, Loss: 0.0003\n",
      "Epoch 880, Loss: 0.0003\n",
      "Epoch 890, Loss: 0.0003\n",
      "Epoch 900, Loss: 0.0003\n",
      "Epoch 910, Loss: 0.0003\n",
      "Epoch 920, Loss: 0.0003\n",
      "Epoch 930, Loss: 0.0003\n",
      "Epoch 940, Loss: 0.0003\n",
      "Epoch 950, Loss: 0.0003\n",
      "Epoch 960, Loss: 0.0003\n",
      "Epoch 970, Loss: 0.0003\n",
      "Epoch 980, Loss: 0.0003\n",
      "Epoch 990, Loss: 0.0003\n"
     ]
    }
   ],
   "source": [
    "loss_fn = MSE_Loss()\n",
    "model.fit(X, y, epochs=1000, batch_size=2, learning_rate=1, loss_fn=loss_fn)"
   ]
  },
  {
   "cell_type": "code",
   "execution_count": 5,
   "metadata": {},
   "outputs": [
    {
     "name": "stdout",
     "output_type": "stream",
     "text": [
      "Вход: [0 0], Истинное значение: 0.00, Предсказание: 0.02\n",
      "Вход: [0 1], Истинное значение: 1.00, Предсказание: 0.99\n",
      "Вход: [1 0], Истинное значение: 1.00, Предсказание: 0.99\n",
      "Вход: [1 1], Истинное значение: 0.00, Предсказание: 0.02\n"
     ]
    }
   ],
   "source": [
    "# Проверка на тестовых данных\n",
    "for i in range(len(X)):\n",
    "    pred = model.predict(X[i:i+1])\n",
    "    print(f\"Вход: {X[i]}, Истинное значение: {y[i][0]:.2f}, Предсказание: {pred[0][0]:.2f}\")"
   ]
  }
 ],
 "metadata": {
  "kernelspec": {
   "display_name": "Python 3",
   "language": "python",
   "name": "python3"
  },
  "language_info": {
   "codemirror_mode": {
    "name": "ipython",
    "version": 3
   },
   "file_extension": ".py",
   "mimetype": "text/x-python",
   "name": "python",
   "nbconvert_exporter": "python",
   "pygments_lexer": "ipython3",
   "version": "3.9.13"
  }
 },
 "nbformat": 4,
 "nbformat_minor": 2
}
